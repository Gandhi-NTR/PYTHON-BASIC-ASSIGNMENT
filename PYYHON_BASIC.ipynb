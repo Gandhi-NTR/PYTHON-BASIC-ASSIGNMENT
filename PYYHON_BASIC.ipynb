{
  "nbformat": 4,
  "nbformat_minor": 0,
  "metadata": {
    "colab": {
      "provenance": []
    },
    "kernelspec": {
      "name": "python3",
      "display_name": "Python 3"
    },
    "language_info": {
      "name": "python"
    }
  },
  "cells": [
    {
      "cell_type": "code",
      "execution_count": null,
      "metadata": {
        "id": "cz9OYNf2qWUy"
      },
      "outputs": [],
      "source": []
    },
    {
      "cell_type": "markdown",
      "source": [
        "#PYTHON BASICS\n"
      ],
      "metadata": {
        "id": "pD14-QuaqdwG"
      }
    },
    {
      "cell_type": "markdown",
      "source": [
        "1. What is python, and why it is popular?\n",
        "- Python is a simple and powerful programming language thats easy to learn and widely used in areas like web developement, data alaysis, automation, and attificial intelligence. It's popular because of its clear syntax and strong community support. It works on different platforms and has thousands of libraries that make complex tasks easier. Pythonis a top choice for beginners and proffesionals alike.\n",
        "2. What is an interpreter in python?\n",
        "- An interpreter in Python is a program that reads and execute Python code line by line , rather that compiling the whole code at once. It translates each line into machine language and runs it immidiately . This makes Python easy to debug and test, but sometimes slower than complied languages.\n",
        "3. What are pre-defined keywords in Python ?\n",
        "- Predefined keywordsin Python are reserved words that have special meaning in the language. We cannot use them as variable names because they are part of the python syntax. Examples include: else, while, for, def, class, True, False, None,etc. These keywords help define the struture and rules of Python code.\n",
        "4. Can keywords be used as variable names?\n",
        "- No, keywords cannot be used as variable names in Python. They are reserved by the language for specific purposes, like controlling program flow or defining structures. Using a keyword as a variable name will cause a syntax error.\n",
        "5.  What is mutability in Python ?\n",
        "- Mutability in Python refers to whether an object’s value can be changed after it is created. If an object is mutable, you can change its content without changing its identity. Examples include lists, dictionaries, and sets. If an object is immutable, its value cannot be changed once created ;like strings, tuples, and integers.\n",
        "6.  Why are lists mutable, but tuples are immutable  ?\n",
        "- Lists are mutable because they are designed to allow changes—like adding, removing, or modifying elements after creation. Python stores lists in a way that supports dynamic resizing and element changes.\n",
        "- Tuples are immutable because they are meant to represent fixed collections of items. Once created, you cannot change their content, which makes them safer for storing constant data and using as dictionary keys.\n",
        "7. What is the difference between “==” and “is” operators in Python ?\n",
        "- In Python, the == operator is used to compare the values of two objects. It checks whether the data or content stored in the objects is the same, even if they are different objects in memory.\n",
        "- The is operator, on the other hand, checks whether two references point to the exact same object in memory. It compares the identity of the objects, not their content.\n",
        "- So, while == focuses on equality of values, is focuses on object identity.\n",
        "8. What are logical operators in Python ?\n",
        "- Logical operators in Python are used to combine conditional statements and return Boolean values (True or False). They are used to make decisions based on multiple conditions.\n",
        "- Python has three logical operators:\n",
        "- and – Returns True if both conditions are true.\n",
        "- or – Returns True if at least one condition is true.\n",
        "- not – Returns the opposite of the condition .\n",
        "- These operators are commonly used in if statements and other decision-making structures.\n",
        "9. What is type casting in Python ?\n",
        "- Type casting in Python is the process of converting the data type of a variable or value into another data type. It can be done either implicitly by Python during operations or explicitly by the programmer using functions like int(), float(), str(), etc. Type casting ensures compatibility between different data types and helps avoid errors during execution.\n",
        "10. What is the difference between implicit and explicit type casting ?\n",
        "- The difference between implicit and explicit type casting in Python lies in who performs the conversion and how it is done.\n",
        "   - Implicit Type Casting is automatically performed by Python when it converts one data type to another during an operation without the programmer's involvement.\n",
        "   -Explicit Type Casting is done manually by the programmer using functions like int(), float(), or str() to convert data from one type to another.\n",
        "11.  What is the purpose of conditional statements in Python?\n",
        "- The purpose of conditional statements in Python is to allow the program to make decisions and execute different blocks of code based on certain conditions. They help control the flow of the program by checking if a condition is true or false, and then performing actions accordingly. This enables dynamic and logical behavior in programs.\n",
        "12. How does the elif statement work ?\n",
        "- The elif (short for \"else if\") statement in Python is used to check multiple conditions after an initial if statement. It allows you to add alternative conditions to an if...else block. If the if condition is false, Python checks the elif condition. If that is true, its block is executed. If none of the if or elif conditions are true, the else block (if present) is executed.\n",
        "- It helps to avoid writing multiple nested if statements and makes the code more readable.\n",
        "13. What is the difference between for and while loops ?\n",
        "- The difference between for and while loops in Python lies in how and when they execute:\n",
        "    - For loop is used when we know in advance how many times we want to execute a block of code. It iterates over a sequence like a list, tuple, string, or range.\n",
        "    - While loop is used when we want to repeat a block of code until a condition becomes false. It is preferred when the number of iterations is not known beforehand.\n",
        "- In short, use for when we are iterating over something, and while when we're looping based on a condition.\n",
        "14. Describe a scenario where a while loop is more suitable than a for loop.\n",
        "- A while loop is more suitable when the number of iterations is not known beforehand and the loop needs to run as long as a certain condition is true. It is ideal for situations where the loop depends on a condition that may change during execution, such as waiting for user input or checking a sensor value.\n",
        "#PRACTICAL QUESTIONS\n",
        "1.Write a Python program to print \"Hello, World!\n",
        "\n",
        "\n",
        "\n",
        "\n",
        "\n",
        "\n",
        "\n",
        "\n",
        "\n",
        "\n",
        "\n",
        "\n",
        "\n",
        "\n",
        "\n",
        "\n",
        "\n",
        "\n",
        "\n",
        "\n",
        "\n",
        "\n",
        "\n",
        "\n",
        "\n",
        "\n",
        "\n",
        "\n",
        "\n",
        "\n",
        "\n",
        "\n",
        "\n",
        "\n",
        "\n",
        "\n",
        "\n",
        "\n",
        "\n",
        "\n",
        "\n",
        "\n",
        "\n",
        "\n",
        "\n",
        "   \n",
        "\n",
        "\n",
        "\n",
        "\n",
        "\n",
        "\n",
        "\n",
        "\n",
        "\n",
        "\n",
        "\n",
        "\n",
        "\n",
        "\n",
        "\n",
        "\n",
        "\n",
        "\n",
        "\n",
        "\n",
        "\n",
        "\n",
        "\n",
        "\n",
        "\n",
        "\n",
        "\n",
        "\n",
        "\n",
        "\n",
        "\n",
        "\n",
        "\n",
        "\n",
        "\n",
        "\n",
        "\n",
        "\n",
        "\n",
        "\n",
        "\n",
        "\n",
        "\n",
        "\n",
        "\n",
        "\n",
        "\n",
        "\n",
        "\n",
        "\n",
        "\n",
        "\n",
        "\n",
        "\n",
        "\n",
        "\n",
        "\n",
        "\n",
        "\n",
        "\n",
        "\n",
        "\n",
        "\n",
        "\n",
        "\n",
        "\n",
        "\n",
        "\n",
        "\n",
        "\n",
        "\n",
        "\n",
        "\n",
        "\n",
        "\n",
        "\n",
        "\n",
        "\n",
        "\n",
        "\n",
        "\n",
        "\n",
        "\n",
        "\n",
        "\n",
        "\n",
        "\n"
      ],
      "metadata": {
        "id": "5u39mU0HsF1X"
      }
    },
    {
      "cell_type": "code",
      "source": [
        "print(\"Hello, World!\")\n"
      ],
      "metadata": {
        "colab": {
          "base_uri": "https://localhost:8080/"
        },
        "id": "THSilsclUgUj",
        "outputId": "cdc219ea-4d5a-441c-e6d8-03d7d6f5d6ae"
      },
      "execution_count": 1,
      "outputs": [
        {
          "output_type": "stream",
          "name": "stdout",
          "text": [
            "Hello, World!\n"
          ]
        }
      ]
    },
    {
      "cell_type": "markdown",
      "source": [],
      "metadata": {
        "id": "Sq1LXbTUUx4C"
      }
    },
    {
      "cell_type": "markdown",
      "source": [
        "2. Write a Python program that displays your name and age.\n",
        "\n"
      ],
      "metadata": {
        "id": "gR_NfHoyU9ud"
      }
    },
    {
      "cell_type": "code",
      "source": [
        "name = \"Gandhi\"\n",
        "age = 26\n",
        "\n",
        "print(\"Name:\", name)\n",
        "print(\"Age:\", age)\n"
      ],
      "metadata": {
        "colab": {
          "base_uri": "https://localhost:8080/"
        },
        "id": "oPnIiBD_VdV5",
        "outputId": "6c66f27c-5d5c-46b8-92d4-87e18ac70bea"
      },
      "execution_count": 2,
      "outputs": [
        {
          "output_type": "stream",
          "name": "stdout",
          "text": [
            "Name: Gandhi\n",
            "Age: 26\n"
          ]
        }
      ]
    },
    {
      "cell_type": "markdown",
      "source": [
        "3. Write code to print all the pre-defined keywords in Python using the keyword library.\n"
      ],
      "metadata": {
        "id": "2zpXOBLeVqsO"
      }
    },
    {
      "cell_type": "code",
      "source": [
        "import keyword\n",
        "\n",
        "print(keyword.kwlist)\n"
      ],
      "metadata": {
        "colab": {
          "base_uri": "https://localhost:8080/"
        },
        "id": "LM8rKvi7XcQz",
        "outputId": "7ae9b166-6fd0-413b-dfb6-4e390eb0e8c6"
      },
      "execution_count": 3,
      "outputs": [
        {
          "output_type": "stream",
          "name": "stdout",
          "text": [
            "['False', 'None', 'True', 'and', 'as', 'assert', 'async', 'await', 'break', 'class', 'continue', 'def', 'del', 'elif', 'else', 'except', 'finally', 'for', 'from', 'global', 'if', 'import', 'in', 'is', 'lambda', 'nonlocal', 'not', 'or', 'pass', 'raise', 'return', 'try', 'while', 'with', 'yield']\n"
          ]
        }
      ]
    },
    {
      "cell_type": "markdown",
      "source": [
        "4. Write a program that checks if a given word is a Python keyword.\n"
      ],
      "metadata": {
        "id": "rjJtocfiYYpS"
      }
    },
    {
      "cell_type": "code",
      "source": [
        "import keyword\n",
        "\n",
        "word = input(\"Enter a word: \")\n",
        "\n",
        "if keyword.iskeyword(word):\n",
        "    print(f'\"{word}\" is a Python keyword.')\n",
        "else:\n",
        "    print(f'\"{word}\" is NOT a Python keyword.')\n"
      ],
      "metadata": {
        "colab": {
          "base_uri": "https://localhost:8080/"
        },
        "id": "N8_epha_Yyzb",
        "outputId": "15f35367-1119-43bf-b29f-b02f491d1c71"
      },
      "execution_count": 4,
      "outputs": [
        {
          "output_type": "stream",
          "name": "stdout",
          "text": [
            "Enter a word: Python Basic\n",
            "\"Python Basic\" is NOT a Python keyword.\n"
          ]
        }
      ]
    },
    {
      "cell_type": "code",
      "source": [
        "import keyword\n",
        "\n",
        "word = input(\"Enter a word: \")\n",
        "\n",
        "if keyword.iskeyword(word):\n",
        "    print(f'\"{word}\" is a Python keyword.')\n",
        "else:\n",
        "    print(f'\"{word}\" is NOT a Python keyword.')\n"
      ],
      "metadata": {
        "colab": {
          "base_uri": "https://localhost:8080/"
        },
        "id": "mey7fDRTVZ7e",
        "outputId": "c0abef61-606f-417a-ba4f-c590e0d28196"
      },
      "execution_count": 5,
      "outputs": [
        {
          "output_type": "stream",
          "name": "stdout",
          "text": [
            "Enter a word: True\n",
            "\"True\" is a Python keyword.\n"
          ]
        }
      ]
    },
    {
      "cell_type": "markdown",
      "source": [
        "5. Create a list and tuple in Python, and demonstrate how attempting to change an element works differently\n",
        "for each."
      ],
      "metadata": {
        "id": "YE-PBjNYZZzW"
      }
    },
    {
      "cell_type": "code",
      "source": [
        "# Creating a list and a tuple\n",
        "my_list = [1, 2, 3]\n",
        "my_tuple = (1, 2, 3)\n",
        "\n",
        "# Changing an element in the list (this works)\n",
        "my_list[0] = 10\n",
        "print(\"List after change:\", my_list)\n",
        "\n",
        "\n"
      ],
      "metadata": {
        "colab": {
          "base_uri": "https://localhost:8080/"
        },
        "id": "z6B7jWIjaLw-",
        "outputId": "76ecd7dd-13b1-45e8-e47b-37eb8ee40688"
      },
      "execution_count": 7,
      "outputs": [
        {
          "output_type": "stream",
          "name": "stdout",
          "text": [
            "List after change: [10, 2, 3]\n"
          ]
        }
      ]
    },
    {
      "cell_type": "markdown",
      "source": [
        "6. Write a function to demonstrate the behavior of mutable and immutable arguments."
      ],
      "metadata": {
        "id": "lJmzuLkaaZXD"
      }
    },
    {
      "cell_type": "code",
      "source": [
        "def change_values(a_list, a_number):\n",
        "    a_list.append(5)\n",
        "    a_number += 5\n",
        "    print(\"Inside:\", a_list, a_number)\n",
        "\n",
        "lst = [1, 2]\n",
        "num = 10\n",
        "\n",
        "change_values(lst, num)\n",
        "print(\"Outside:\", lst, num)\n"
      ],
      "metadata": {
        "colab": {
          "base_uri": "https://localhost:8080/"
        },
        "id": "NpYMWexya0aw",
        "outputId": "13632bf8-3b0f-4c30-e0fa-7bddb13ea6cb"
      },
      "execution_count": 9,
      "outputs": [
        {
          "output_type": "stream",
          "name": "stdout",
          "text": [
            "Inside: [1, 2, 5] 15\n",
            "Outside: [1, 2, 5] 10\n"
          ]
        }
      ]
    },
    {
      "cell_type": "markdown",
      "source": [
        "7. Write a program that performs basic arithmetic operations on two user-input numbers."
      ],
      "metadata": {
        "id": "p_YH3xYsbHjM"
      }
    },
    {
      "cell_type": "code",
      "source": [
        "a = int(input(\"Enter first number: \"))\n",
        "b = int(input(\"Enter second number: \"))\n",
        "\n",
        "print(\"Add:\", a + b)\n",
        "print(\"Subtract:\", a - b)\n",
        "print(\"Multiply:\", a * b)\n",
        "print(\"Divide:\", a / b)\n"
      ],
      "metadata": {
        "colab": {
          "base_uri": "https://localhost:8080/"
        },
        "id": "kee16k6zbibs",
        "outputId": "78f57935-9e8c-4499-a670-b63950c60f7b"
      },
      "execution_count": 10,
      "outputs": [
        {
          "output_type": "stream",
          "name": "stdout",
          "text": [
            "Enter first number: 25\n",
            "Enter second number: 52\n",
            "Add: 77\n",
            "Subtract: -27\n",
            "Multiply: 1300\n",
            "Divide: 0.4807692307692308\n"
          ]
        }
      ]
    },
    {
      "cell_type": "markdown",
      "source": [
        "8. Write a program to demonstrate the use of logical operators.\n"
      ],
      "metadata": {
        "id": "vKr9awWocEVU"
      }
    },
    {
      "cell_type": "code",
      "source": [
        "a = True\n",
        "b = False\n",
        "\n",
        "print(\"a and b:\", a and b)\n",
        "print(\"a or b:\", a or b)\n",
        "print(\"not a:\", not a)\n"
      ],
      "metadata": {
        "colab": {
          "base_uri": "https://localhost:8080/"
        },
        "id": "cfr5K0xgcS4k",
        "outputId": "26ae7f1a-f5a6-4794-e93b-deb84a482a40"
      },
      "execution_count": 11,
      "outputs": [
        {
          "output_type": "stream",
          "name": "stdout",
          "text": [
            "a and b: False\n",
            "a or b: True\n",
            "not a: False\n"
          ]
        }
      ]
    },
    {
      "cell_type": "markdown",
      "source": [
        "9. Write a Python program to convert user input from string to integer, float, and boolean types."
      ],
      "metadata": {
        "id": "oFGwyktzchAJ"
      }
    },
    {
      "cell_type": "code",
      "source": [
        "x = input(\"Enter a value: \")\n",
        "\n",
        "print(\"Integer:\", int(x))\n",
        "print(\"Float:\", float(x))\n",
        "print(\"Boolean:\", bool(x))\n"
      ],
      "metadata": {
        "colab": {
          "base_uri": "https://localhost:8080/"
        },
        "id": "jb7Feyfncqr-",
        "outputId": "d13f7eca-582c-4a64-b789-a229c6e98e37"
      },
      "execution_count": 12,
      "outputs": [
        {
          "output_type": "stream",
          "name": "stdout",
          "text": [
            "Enter a value: 100\n",
            "Integer: 100\n",
            "Float: 100.0\n",
            "Boolean: True\n"
          ]
        }
      ]
    },
    {
      "cell_type": "markdown",
      "source": [
        "10.  Write code to demonstrate type casting with list elements."
      ],
      "metadata": {
        "id": "HLhxejIddPLi"
      }
    },
    {
      "cell_type": "code",
      "source": [
        "# List of strings\n",
        "str_list = [\"10\", \"20\", \"30\"]\n",
        "\n",
        "# Convert each string to integer\n",
        "int_list = [int(x) for x in str_list]\n",
        "\n",
        "print(\"Original list (strings):\", str_list)\n",
        "print(\"Converted list (integers):\", int_list)\n"
      ],
      "metadata": {
        "colab": {
          "base_uri": "https://localhost:8080/"
        },
        "id": "ZeiGnGqFZ97J",
        "outputId": "fd1d9693-aadc-402a-8f73-faed4ff05003"
      },
      "execution_count": 13,
      "outputs": [
        {
          "output_type": "stream",
          "name": "stdout",
          "text": [
            "Original list (strings): ['10', '20', '30']\n",
            "Converted list (integers): [10, 20, 30]\n"
          ]
        }
      ]
    },
    {
      "cell_type": "markdown",
      "source": [
        "11. Write a program that checks if a number is positive, negative, or zero."
      ],
      "metadata": {
        "id": "7Bm0DE05eujz"
      }
    },
    {
      "cell_type": "code",
      "source": [
        "num = float(input(\"Enter a number: \"))\n",
        "\n",
        "if num > 0:\n",
        "    print(\"The number is positive.\")\n",
        "elif num < 0:\n",
        "    print(\"The number is negative.\")\n",
        "else:\n",
        "    print(\"The number is zero.\")\n"
      ],
      "metadata": {
        "colab": {
          "base_uri": "https://localhost:8080/"
        },
        "id": "XhL2SVMDfIqZ",
        "outputId": "8c347e04-bd51-4b03-ba03-fd7c9764676d"
      },
      "execution_count": 14,
      "outputs": [
        {
          "output_type": "stream",
          "name": "stdout",
          "text": [
            "Enter a number: 36\n",
            "The number is positive.\n"
          ]
        }
      ]
    },
    {
      "cell_type": "code",
      "source": [
        "num = float(input(\"Enter a number: \"))\n",
        "\n",
        "if num > 0:\n",
        "    print(\"The number is positive.\")\n",
        "elif num < 0:\n",
        "    print(\"The number is negative.\")\n",
        "else:\n",
        "    print(\"The number is zero.\")\n"
      ],
      "metadata": {
        "id": "VpP8BLEUr7Sj",
        "colab": {
          "base_uri": "https://localhost:8080/"
        },
        "outputId": "c01de3c1-ef4e-47b6-818b-f91863cad8f8"
      },
      "execution_count": 15,
      "outputs": [
        {
          "output_type": "stream",
          "name": "stdout",
          "text": [
            "Enter a number: -96\n",
            "The number is negative.\n"
          ]
        }
      ]
    },
    {
      "cell_type": "code",
      "source": [
        "num = float(input(\"Enter a number: \"))\n",
        "\n",
        "if num > 0:\n",
        "    print(\"The number is positive.\")\n",
        "elif num < 0:\n",
        "    print(\"The number is negative.\")\n",
        "else:\n",
        "    print(\"The number is zero.\")\n"
      ],
      "metadata": {
        "colab": {
          "base_uri": "https://localhost:8080/"
        },
        "id": "k__tUdtIff2j",
        "outputId": "4df360ed-11ee-4967-aece-893cbfd1d279"
      },
      "execution_count": 17,
      "outputs": [
        {
          "output_type": "stream",
          "name": "stdout",
          "text": [
            "Enter a number: 0\n",
            "The number is zero.\n"
          ]
        }
      ]
    },
    {
      "cell_type": "markdown",
      "source": [
        "12. Write a for loop to print numbers from 1 to 10."
      ],
      "metadata": {
        "id": "Bs6rRi7VfrTf"
      }
    },
    {
      "cell_type": "code",
      "source": [
        "for i in range(1, 11):\n",
        "    print(i)\n"
      ],
      "metadata": {
        "colab": {
          "base_uri": "https://localhost:8080/"
        },
        "id": "7zM5S4CTf19h",
        "outputId": "9a9b85ff-5108-4e06-b090-f97c5aaaead8"
      },
      "execution_count": 18,
      "outputs": [
        {
          "output_type": "stream",
          "name": "stdout",
          "text": [
            "1\n",
            "2\n",
            "3\n",
            "4\n",
            "5\n",
            "6\n",
            "7\n",
            "8\n",
            "9\n",
            "10\n"
          ]
        }
      ]
    },
    {
      "cell_type": "markdown",
      "source": [
        "13. Write a Python program to find the sum of all even numbers between 1 and 50."
      ],
      "metadata": {
        "id": "-UpntQ73gXqE"
      }
    },
    {
      "cell_type": "code",
      "source": [
        "total = 0\n",
        "\n",
        "for i in range(2, 51, 2):\n",
        "    total += i\n",
        "\n",
        "print(\"Sum of even numbers from 1 to 50 is:\", total)\n"
      ],
      "metadata": {
        "colab": {
          "base_uri": "https://localhost:8080/"
        },
        "id": "gyf2I49xg4rO",
        "outputId": "84ad6bc6-0339-47c9-b8ed-5d0ed9ce288c"
      },
      "execution_count": 19,
      "outputs": [
        {
          "output_type": "stream",
          "name": "stdout",
          "text": [
            "Sum of even numbers from 1 to 50 is: 650\n"
          ]
        }
      ]
    },
    {
      "cell_type": "markdown",
      "source": [
        "14. Write a program to reverse a string using a while loop.\n"
      ],
      "metadata": {
        "id": "WJ5SlOwUh5k1"
      }
    },
    {
      "cell_type": "code",
      "source": [
        "text = input(\"Enter a string: \")\n",
        "reversed_text = \"\"\n",
        "i = len(text) - 1\n",
        "\n",
        "while i >= 0:\n",
        "    reversed_text += text[i]\n",
        "    i -= 1\n",
        "\n",
        "print(\"Reversed string:\", reversed_text)\n"
      ],
      "metadata": {
        "colab": {
          "base_uri": "https://localhost:8080/"
        },
        "id": "UGjBPWjBiF3X",
        "outputId": "d97ef02f-0833-41dc-e993-adbb5c8e8bda"
      },
      "execution_count": 20,
      "outputs": [
        {
          "output_type": "stream",
          "name": "stdout",
          "text": [
            "Enter a string: Gandhi\n",
            "Reversed string: ihdnaG\n"
          ]
        }
      ]
    },
    {
      "cell_type": "markdown",
      "source": [
        "15. Write a Python program to calculate the factorial of a number provided by the user using a while loop.\n"
      ],
      "metadata": {
        "id": "J6QDEIPekNxr"
      }
    },
    {
      "cell_type": "code",
      "source": [
        "num = int(input(\"Enter a number: \"))\n",
        "factorial = 1\n",
        "i = 1\n",
        "\n",
        "while i <= num:\n",
        "    factorial *= i\n",
        "    i += 1\n",
        "\n",
        "print(\"Factorial of\", num, \"is:\", factorial)\n"
      ],
      "metadata": {
        "colab": {
          "base_uri": "https://localhost:8080/"
        },
        "id": "VebKCrAlkTVe",
        "outputId": "6d760228-b91b-45ca-f5cc-70fa1601767c"
      },
      "execution_count": 23,
      "outputs": [
        {
          "output_type": "stream",
          "name": "stdout",
          "text": [
            "Enter a number: 8\n",
            "Factorial of 8 is: 40320\n"
          ]
        }
      ]
    },
    {
      "cell_type": "markdown",
      "source": [],
      "metadata": {
        "id": "gIrO9kRVgKpT"
      }
    }
  ]
}